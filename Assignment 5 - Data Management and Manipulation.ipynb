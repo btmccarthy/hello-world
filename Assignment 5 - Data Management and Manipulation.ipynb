{
 "cells": [
  {
   "cell_type": "markdown",
   "metadata": {},
   "source": [
    "# SCH-MGMT 697P Business Applications of Python\n",
    "### Assignment V: Data Management and Manipulation\n",
    "### Due: Wednesday 04-10 at 11:59pm\n",
    "Please complete these exercises to the best of your abilities. Please include code to invoke each of your functions to demonstrate the functionality. Write comments throughout your code to explain steps. If you run into a persistent error, please demonstrate your efforts to resolve it; search the web for the error, see if you can get closer to figuring it out. Document what you tried in order to fix the problem."
   ]
  },
  {
   "cell_type": "markdown",
   "metadata": {},
   "source": [
    "### Problem 1. Numpy Array Basics\n",
    "a.  Create an array with the following data, specify the data type as int\n",
    "```\n",
    "[[1,2,3,4,5],[6,7,8,9,10],[11,12,13,14,15],[16,17,18,19,20],[21,22,23,24,25]]\n",
    "```\n",
    "b.  Access the first and last entry of the array\n",
    "\n",
    "c.  Access the first row and the first column of the array\n",
    "\n",
    "d.  Find the mean and standard deviation of the second column"
   ]
  },
  {
   "cell_type": "code",
   "execution_count": 75,
   "metadata": {},
   "outputs": [
    {
     "data": {
      "text/plain": [
       "(12.0, 7.0710678118654755)"
      ]
     },
     "execution_count": 75,
     "metadata": {},
     "output_type": "execute_result"
    }
   ],
   "source": [
    "import numpy as np\n",
    "\n",
    "# a.\n",
    "arr=np.array([[1,2,3,4,5],[6,7,8,9,10],[11,12,13,14,15],[16,17,18,19,20],[21,22,23,24,25]])\n",
    "\n",
    "# b.\n",
    "(arr[0][0],arr[-1][-1])\n",
    "\n",
    "# c.\n",
    "(arr[0],arr[:,0])\n",
    "\n",
    "# d.\n",
    "(arr[:,1].mean(),arr[:,1].std())"
   ]
  },
  {
   "cell_type": "markdown",
   "metadata": {},
   "source": [
    "### Problem 2. Opperations with Numpy Arrays\n",
    "a. Slice off the outer edges of the array, that is, remove the first and last row and the first and last column.\n",
    "\n",
    "b. Use a numpy command to get the dimensions of the array\n",
    "\n",
    "c. Use another numpy command to get the number of items in the array\n",
    "\n",
    "d. Reshape the array into a  one dimensional array (1 x 25).\n",
    "\n",
    "e. Use selection to identify all even numbers in the array"
   ]
  },
  {
   "cell_type": "code",
   "execution_count": 76,
   "metadata": {},
   "outputs": [
    {
     "data": {
      "text/plain": [
       "array([[0, 1, 0, 1, 0],\n",
       "       [1, 0, 1, 0, 1],\n",
       "       [0, 1, 0, 1, 0],\n",
       "       [1, 0, 1, 0, 1],\n",
       "       [0, 1, 0, 1, 0]])"
      ]
     },
     "execution_count": 76,
     "metadata": {},
     "output_type": "execute_result"
    }
   ],
   "source": [
    "# a.\n",
    "arr[1:-1,1:-1]\n",
    "\n",
    "# b.\n",
    "arr.shape\n",
    "\n",
    "# c.\n",
    "np.prod(arr.shape)\n",
    "\n",
    "# d.\n",
    "arr.reshape(1,25)\n",
    "\n",
    "# e.\n",
    "np.where(arr%2==0,1,0)"
   ]
  },
  {
   "cell_type": "markdown",
   "metadata": {},
   "source": [
    "### Problem 3. Random Number Generation in Numpy\n",
    "a. Generate a 3x3 array of random integers in the range of 0-9\n",
    "\n",
    "b. Generate a 100 random floats in the range of 0-1\n",
    "\n",
    "c. Generate 1000 observations from a normal distribution with mean 64 and standard deviation 2. \n",
    "\n",
    "d. **Optional** use matplotlib to draw a histogram of the data from the above. "
   ]
  },
  {
   "cell_type": "code",
   "execution_count": 77,
   "metadata": {},
   "outputs": [
    {
     "data": {
      "image/png": "[encoded data removed]",
      "text/plain": [
       "<Figure size 432x288 with 1 Axes>"
      ]
     },
     "metadata": {
      "needs_background": "light"
     },
     "output_type": "display_data"
    }
   ],
   "source": [
    "# a.\n",
    "np.random.randint(0,9,(3,3))\n",
    "\n",
    "# b.\n",
    "np.random.sample(100)\n",
    "\n",
    "# c.\n",
    "nd = 64+2*np.random.randn(1000)\n",
    "\n",
    "# d.\n",
    "import matplotlib.pyplot as plt\n",
    "n, bins, patches = plt.hist(nd, 50, density=1, facecolor='#063852', alpha=0.75)"
   ]
  },
  {
   "cell_type": "markdown",
   "metadata": {},
   "source": [
    "### Problem 4. The datetime library (with pandas)\n",
    "You'll have to do some googling ...\n",
    "\n",
    "a. create a variable that stores the exact time Trump was elected president, to the nearest minute.  The program will default to the current time zone. \n",
    "\n",
    "b. create a variable to store the exact time now.\n",
    "\n",
    "c.  Use the date_range() function in pandas to create a time stamp for each day between the times you found in parts a and b. Notice or find the length of this object with len()"
   ]
  },
  {
   "cell_type": "code",
   "execution_count": 78,
   "metadata": {},
   "outputs": [
    {
     "data": {
      "text/plain": [
       "'883 days'"
      ]
     },
     "execution_count": 78,
     "metadata": {},
     "output_type": "execute_result"
    }
   ],
   "source": [
    "from datetime import datetime\n",
    "import pandas as pd\n",
    "\n",
    "# a.\n",
    "Trump = datetime(2016,11,9,3,48)\n",
    "\n",
    "# b.\n",
    "Now = datetime.now()\n",
    "\n",
    "# c.\n",
    "list = pd.date_range(Trump,Now)\n",
    "str(len(list))+\" days\""
   ]
  },
  {
   "cell_type": "markdown",
   "metadata": {},
   "source": [
    "For the following problems, make sure you have the appropriate libraries installed and imported.  If you have not installed pandas datareader on your machine, you will need to do that first.  The html5lib 1.0b8 is also helpful. "
   ]
  },
  {
   "cell_type": "code",
   "execution_count": 79,
   "metadata": {},
   "outputs": [],
   "source": [
    "# installing dependencies for pandas\n",
    "# this only has to be run once on your device, you can comment it out thereafter\n",
    "# !pip install pandas-datareader\n",
    "# !pip install --upgrade html5lib==1.0b8"
   ]
  },
  {
   "cell_type": "markdown",
   "metadata": {},
   "source": [
    "Imports for remaining problems "
   ]
  },
  {
   "cell_type": "code",
   "execution_count": 80,
   "metadata": {},
   "outputs": [],
   "source": [
    "import pandas as pd #pandas library\n",
    "from pandas_datareader import data #data readers (google, html, etc.)\n",
    "#The following line ensures that graphs are rendered in the notebook\n",
    "%matplotlib inline \n",
    "import numpy as np\n",
    "import matplotlib.pyplot as plt #Plotting library\n",
    "import datetime #datetime for timeseries support"
   ]
  },
  {
   "cell_type": "markdown",
   "metadata": {},
   "source": [
    "### Problem 5. Pandas Dataframe Basics\n",
    "a. Create a dataframe using the following customer data and column names.  Make sure the 'id' is set as the row index.  \n",
    "\n",
    "b. Print the two last columns, order_total and time.  \n",
    "\n",
    "c. Find the mean of the order_total column\n",
    "\n",
    "d. Print the second row of the dataframe  "
   ]
  },
  {
   "cell_type": "code",
   "execution_count": 81,
   "metadata": {},
   "outputs": [
    {
     "name": "stdout",
     "output_type": "stream",
     "text": [
      "       last_order  order_total  time\n",
      "id                                  \n",
      "57640  2018-02-13       299.53    10\n",
      "52862  2018-04-16        95.54    33\n",
      "73637  2018-11-06       307.83    68\n",
      "80392  2018-12-03       339.34     7\n",
      "18811  2018-12-11       375.60    56\n",
      "       order_total  time\n",
      "id                      \n",
      "57640       299.53    10\n",
      "52862        95.54    33\n",
      "73637       307.83    68\n",
      "80392       339.34     7\n",
      "18811       375.60    56\n",
      "283.56800000000004\n",
      "last_order     2018-04-16\n",
      "order_total         95.54\n",
      "time                   33\n",
      "Name: 52862, dtype: object\n"
     ]
    }
   ],
   "source": [
    "import pandas as pd\n",
    "data=[['57640','2018-02-13', 299.53,10],['52862','2018-04-16', 95.54,33],['73637','2018-11-06',307.83,68],['80392','2018-12-03',339.34,7],['18811','2018-12-11',375.60,56]]\n",
    "col_names=['id','last_order','order_total','time']\n",
    "\n",
    "# a.\n",
    "df = pd.DataFrame(data,columns=col_names)\n",
    "df.set_index('id',inplace=True)\n",
    "print(df)\n",
    "\n",
    "# b.\n",
    "print(df[['order_total','time']])\n",
    "\n",
    "# c.\n",
    "print(df['order_total'].mean())\n",
    "\n",
    "# d.\n",
    "print(df.iloc[1])"
   ]
  },
  {
   "cell_type": "markdown",
   "metadata": {},
   "source": [
    "### 6. Operations with Pandas Dataframes\n",
    "a.  Use the following data to make a pandas dataframe. \n",
    "\n",
    "b.  Change all of the temperatures from Fahrenheit to Celsius using the formula (degrees F - 32) x 5/9=degrees C\n"
   ]
  },
  {
   "cell_type": "code",
   "execution_count": 82,
   "metadata": {},
   "outputs": [
    {
     "data": {
      "text/plain": [
       "0    25.555556\n",
       "1    16.111111\n",
       "2    27.222222\n",
       "3    16.666667\n",
       "4    28.888889\n",
       "5    18.888889\n",
       "6    30.555556\n",
       "7    20.000000\n",
       "8    30.000000\n",
       "9    20.000000\n",
       "Name: temperature, dtype: float64"
      ]
     },
     "execution_count": 82,
     "metadata": {},
     "output_type": "execute_result"
    }
   ],
   "source": [
    "Blacksburg_Forecast = [ { 'humidity' :  20, 'temperature' : 78, 'wind' :  7} ,\n",
    "                        { 'humidity' :  50, 'temperature' : 61, 'wind' : 10} ,\n",
    "                        { 'humidity' : 100, 'temperature' : 81, 'wind' :  5} ,\n",
    "                        { 'humidity' :  90, 'temperature' : 62, 'wind' : 15} ,\n",
    "                        { 'humidity' :  30, 'temperature' : 84, 'wind' : 19} ,\n",
    "                        { 'humidity' :   0, 'temperature' : 66, 'wind' : 28} ,\n",
    "                        { 'humidity' :   0, 'temperature' : 87, 'wind' : 12} ,\n",
    "                        { 'humidity' :   0, 'temperature' : 68, 'wind' : 14} ,\n",
    "                        { 'humidity' :   0, 'temperature' : 86, 'wind' :  4} ,\n",
    "                        { 'humidity' :  60, 'temperature' : 68, 'wind' :  0}\n",
    "                       ]\n",
    "\n",
    "# a.\n",
    "df6 = pd.DataFrame(Blacksburg_Forecast)\n",
    "\n",
    "# b.\n",
    "(df6['temperature']-32)*(5/9)\n"
   ]
  },
  {
   "cell_type": "markdown",
   "metadata": {},
   "source": [
    "### 7.  Data Extraction with Pandas Datareader\n",
    "Use the IEX data source for this problem.  You can read more about remote access with datareader [here](https://pandas-datareader.readthedocs.io/en/latest/).  \n",
    "\n",
    "a.  Create a pandas dataframe for a stock of your choice over a period of one year.  Follow the examples from the last part of lesson 5.2.  Print the first four lines of the table.\n",
    "\n",
    "b.  Find the mean of the 'high' column and the maximum of the 'open' column.  Make sure to import the math library. \n"
   ]
  },
  {
   "cell_type": "code",
   "execution_count": 86,
   "metadata": {},
   "outputs": [
    {
     "name": "stdout",
     "output_type": "stream",
     "text": [
      "               open     high      low    close   volume\n",
      "date                                                   \n",
      "2018-04-09  1425.03  1438.48  1402.57  1406.08  4208206\n",
      "2018-04-10  1431.99  1438.38  1415.70  1436.22  4280144\n",
      "2018-04-11  1439.44  1448.78  1424.89  1427.05  3582533\n",
      "2018-04-12  1439.50  1452.12  1435.06  1448.50  3135027\n"
     ]
    },
    {
     "data": {
      "text/plain": [
       "(1727.6739682539676, 2038.11)"
      ]
     },
     "execution_count": 86,
     "metadata": {},
     "output_type": "execute_result"
    }
   ],
   "source": [
    "from pandas_datareader import data\n",
    "from datetime import datetime\n",
    "\n",
    "# a.\n",
    "symbol = 'AMZN'\n",
    "data_source = 'iex'\n",
    "start=datetime(2018, 4, 9)\n",
    "end=datetime(2019, 4, 8)\n",
    "amzn=data.DataReader(symbol, data_source, start, end)\n",
    "print(amzn.head(4))\n",
    "\n",
    "# b.\n",
    "amzn['high'].mean(),amzn['open'].max()"
   ]
  },
  {
   "cell_type": "markdown",
   "metadata": {},
   "source": [
    "### 8.  Optional Challenge - Data Extraction and Manipulation\n",
    "See if you can figure out how to extract data from the star wars api:  'https://swapi.co/api/'. You can customize your data by adding to the url e.g. 'https://swapi.co/api/planets/' to get data about planets.  Extract the data and turn it into a tidy pandas dataframe.  You will need the requests library and probably the json library, perhaps others.  Have fun!"
   ]
  },
  {
   "cell_type": "code",
   "execution_count": 93,
   "metadata": {},
   "outputs": [
    {
     "name": "stdout",
     "output_type": "stream",
     "text": [
      "   count                                  next previous  \\\n",
      "0     61  https://swapi.co/api/planets/?page=2     None   \n",
      "1     61  https://swapi.co/api/planets/?page=2     None   \n",
      "2     61  https://swapi.co/api/planets/?page=2     None   \n",
      "3     61  https://swapi.co/api/planets/?page=2     None   \n",
      "4     61  https://swapi.co/api/planets/?page=2     None   \n",
      "5     61  https://swapi.co/api/planets/?page=2     None   \n",
      "6     61  https://swapi.co/api/planets/?page=2     None   \n",
      "7     61  https://swapi.co/api/planets/?page=2     None   \n",
      "8     61  https://swapi.co/api/planets/?page=2     None   \n",
      "9     61  https://swapi.co/api/planets/?page=2     None   \n",
      "\n",
      "                                             results  \n",
      "0  {'name': 'Alderaan', 'rotation_period': '24', ...  \n",
      "1  {'name': 'Yavin IV', 'rotation_period': '24', ...  \n",
      "2  {'name': 'Hoth', 'rotation_period': '23', 'orb...  \n",
      "3  {'name': 'Dagobah', 'rotation_period': '23', '...  \n",
      "4  {'name': 'Bespin', 'rotation_period': '12', 'o...  \n",
      "5  {'name': 'Endor', 'rotation_period': '18', 'or...  \n",
      "6  {'name': 'Naboo', 'rotation_period': '26', 'or...  \n",
      "7  {'name': 'Coruscant', 'rotation_period': '24',...  \n",
      "8  {'name': 'Kamino', 'rotation_period': '27', 'o...  \n",
      "9  {'name': 'Geonosis', 'rotation_period': '30', ...  \n"
     ]
    }
   ],
   "source": [
    "import requests, json\n",
    "x = requests.get('https://swapi.co/api/planets').json()\n",
    "df = pd.DataFrame(x)\n",
    "print(df)\n"
   ]
  },
  {
   "cell_type": "code",
   "execution_count": null,
   "metadata": {},
   "outputs": [],
   "source": []
  }
 ],
 "metadata": {
  "kernelspec": {
   "display_name": "Python 3",
   "language": "python",
   "name": "python3"
  },
  "language_info": {
   "codemirror_mode": {
    "name": "ipython",
    "version": 3
   },
   "file_extension": ".py",
   "mimetype": "text/x-python",
   "name": "python",
   "nbconvert_exporter": "python",
   "pygments_lexer": "ipython3",
   "version": "3.7.1"
  }
 },
 "nbformat": 4,
 "nbformat_minor": 2
}
