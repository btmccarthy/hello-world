{
 "cells": [
  {
   "cell_type": "markdown",
   "metadata": {},
   "source": [
    "### SCH-MGMT 697P Business Applications of Python\n",
    "### Assignment II:  Functions \n",
    "### Due: Monday 03-18 at 12am\n",
    "Please complete these exercises to the best of your abilities.  Please include code to invoke each of your functions to demonstrate the functionality.  Write comments throughout your code to explain steps.  If you run into a persistent error, please demonstrate your efforts to resolve it; search the web for the error, see if you can get closer to figuring it out.  Document what you tried in order to fix the problem. "
   ]
  },
  {
   "cell_type": "markdown",
   "metadata": {},
   "source": [
    "#### Problem 1\n",
    "a. Write a basic function to print the statment \"I can't get enough Python!\""
   ]
  },
  {
   "cell_type": "markdown",
   "metadata": {},
   "source": [
    "b. Write a basic function that accepts a name argument and prints \"(name) can't get enough Python!\""
   ]
  },
  {
   "cell_type": "code",
   "execution_count": 3,
   "metadata": {},
   "outputs": [
    {
     "name": "stdout",
     "output_type": "stream",
     "text": [
      "I can't get enough Python!\n",
      "Input your name: Brian\n",
      "Brian can't get enough Python!\n"
     ]
    }
   ],
   "source": [
    "# a.\n",
    "print(\"I can't get enough Python!\")     #prints statement\n",
    "\n",
    "# b. \n",
    "name=input(\"Input your name: \")         #input your name argument\n",
    "print(name,\"can't get enough Python!\")  #print statement with name argument"
   ]
  },
  {
   "cell_type": "markdown",
   "metadata": {},
   "source": [
    "#### Problem 2\n",
    "Write a function that accepts the purchase price of a stock and a closing price and returns the percent change.  "
   ]
  },
  {
   "cell_type": "code",
   "execution_count": 8,
   "metadata": {},
   "outputs": [
    {
     "name": "stdout",
     "output_type": "stream",
     "text": [
      "170.58823529411762 %\n"
     ]
    },
    {
     "data": {
      "text/plain": [
       "170.58823529411762"
      ]
     },
     "execution_count": 8,
     "metadata": {},
     "output_type": "execute_result"
    }
   ],
   "source": [
    "def percent_change(purchase,close):           #define percent_change as an executable function\n",
    "    percent = (close-purchase)/purchase*100   #perform percent change calcuation based on inputs\n",
    "    print(percent,\"%\")                        #print function with % at end\n",
    "    return percent                            #calculate percent change and output from function\n",
    "\n",
    "\n",
    "# test\n",
    "purchase=3.4\n",
    "close=9.2\n",
    "percent_change(purchase, close)               #performs function with given inputs"
   ]
  },
  {
   "cell_type": "markdown",
   "metadata": {},
   "source": [
    "#### Problem 3\n",
    "Write a function that accepts a list of data values and returns a summary that includes the mean, standard deviation, minimum, 25th percentile, median, 75th percentile, and maximum. You will need to import the numpy library in order to calculate the percentile.  Do a little bit of research.  In your function, also include a print statement that makes the output more meaningful.  "
   ]
  },
  {
   "cell_type": "code",
   "execution_count": 16,
   "metadata": {},
   "outputs": [
    {
     "name": "stdout",
     "output_type": "stream",
     "text": [
      "The mean is 10.7\n",
      "The std dev is 6.509416256470314\n",
      "The minimum is 4.5\n",
      "The 25th percentile is 6.2\n",
      "The median is 8.4\n",
      "The 75th percentile is 11.6\n",
      "The maximum is 24.3\n"
     ]
    }
   ],
   "source": [
    "import statistics                                         \n",
    "from numpy import percentile                             #both import the necessary functions\n",
    "\n",
    "def summary(list, operation):                            #define summary as a function that takes in a list and a variable\n",
    "    return operation(list)                               #returns the second variable, which is a function of the list\n",
    "\n",
    "\n",
    "# test\n",
    "data = [4.5, 6, 7, 18, 6.2, 11.6, 24.3, 8.4, 10.3]       #dataset / list for input\n",
    "print(\"The mean is\",summary(data,statistics.mean))\n",
    "print(\"The std dev is\",summary(data,statistics.stdev))\n",
    "print(\"The minimum is\",summary(data,min))\n",
    "print(\"The 25th percentile is\",percentile(data,25))\n",
    "print(\"The median is\",summary(data,statistics.median))\n",
    "print(\"The 75th percentile is\",percentile(data,75))\n",
    "print(\"The maximum is\",summary(data,max))                #all print out summary as a function of the indicated functions"
   ]
  },
  {
   "cell_type": "markdown",
   "metadata": {},
   "source": [
    "#### Problem 4\n",
    "Write a function that accepts a price for a restaurant bill, a sales tax, and a tip.  The function should calculate and return the amount a customer will have to pay after adding the sales tax and tip.  Make the default sales tax .0625 and the default tip .15. "
   ]
  },
  {
   "cell_type": "code",
   "execution_count": 20,
   "metadata": {},
   "outputs": [
    {
     "data": {
      "text/plain": [
       "25.605999999999998"
      ]
     },
     "execution_count": 20,
     "metadata": {},
     "output_type": "execute_result"
    }
   ],
   "source": [
    "def calculate_bill(price,sales_tax=0.0625,tip=0.15):       #define calculate_bill as a function of price, tax, and tip\n",
    "    amount=price*(1+sales_tax)*(1+tip)                     #constructs an equation based on the inputs\n",
    "    return amount                                          #return the equation, which is a function of the variables\n",
    "    \n",
    "    \n",
    "# test\n",
    "price=20\n",
    "calculate_bill(20)\n",
    "calculate_bill(20, .085, .18)                              #calculates amount based on the given inputs"
   ]
  },
  {
   "cell_type": "markdown",
   "metadata": {},
   "source": [
    "#### Problem 5\n",
    "Research local and global variables in Python.  Write a brief summary of what they are and provide a simple example to demonstrate.\n",
    "\n",
    "#### Summary\n",
    "(3-4 sentences)"
   ]
  },
  {
   "cell_type": "code",
   "execution_count": 26,
   "metadata": {},
   "outputs": [
    {
     "name": "stdout",
     "output_type": "stream",
     "text": [
      "100\n",
      "200\n",
      "500\n",
      "600\n"
     ]
    }
   ],
   "source": [
    "# Summary: When a variable is defined inside a function, it is local to that function (hence, a local variable), which means\n",
    "#          it essentially does not exist outside the function (and so can be redefined outside the function wihthout having\n",
    "#          to worry about interfering with the previous function). In contrast, global variables can be defined when you do\n",
    "#          want the same variable to be available to multiple functions.\n",
    "\n",
    "# Local Var: \n",
    "\n",
    "def locfunc1():\n",
    "    i=100            #define i within locfunc1\n",
    "    print(i)\n",
    "def locfunc2():\n",
    "    i=200            #define i within locfunc2\n",
    "    print(i)\n",
    "\n",
    "locfunc1()\n",
    "locfunc2()\n",
    "\n",
    "#Global Var:\n",
    "\n",
    "def globfunc1():\n",
    "    global j         #define j as a global variable\n",
    "    j=500\n",
    "    print(j)\n",
    "def globfunc2():\n",
    "    k=j+100          #utilize the global variable j in calculating k\n",
    "    print(k)\n",
    "\n",
    "globfunc1()\n",
    "globfunc2()"
   ]
  },
  {
   "cell_type": "markdown",
   "metadata": {},
   "source": [
    "#### Problem 6\n",
    "Write a function that takes in the purchase price and the current price of a certain stock.  If the stock's value has decreased by more than 10% or increased by more than 20%, return True.   Otherwise return False. "
   ]
  },
  {
   "cell_type": "code",
   "execution_count": 27,
   "metadata": {},
   "outputs": [
    {
     "data": {
      "text/plain": [
       "True"
      ]
     },
     "execution_count": 27,
     "metadata": {},
     "output_type": "execute_result"
    }
   ],
   "source": [
    "def check_price(purchase,current):\n",
    "    incr=(current-purchase)/purchase\n",
    "    if incr<-0.1 or incr>0.2:            #if the value decreases by over 0.1 (10%) or inreases by over 0.2 (20%), returns True\n",
    "        return True\n",
    "    else:\n",
    "        return False                     #any scenario between those percent changes returns False\n",
    "    \n",
    "    \n",
    "\n",
    "# test\n",
    "purchase=7.5\n",
    "current=10.5\n",
    "check_price(purchase, current)"
   ]
  },
  {
   "cell_type": "markdown",
   "metadata": {},
   "source": [
    "#### Problem 7\n",
    "Break down this problems using print() statements to understand what's going on.  Then, add comments to the code to explain each step.  Make sure to look up the while() method to understand how it works. "
   ]
  },
  {
   "cell_type": "code",
   "execution_count": 30,
   "metadata": {},
   "outputs": [
    {
     "name": "stdout",
     "output_type": "stream",
     "text": [
      "The remainder of num/10 is 5\n",
      "The next value of reversed is 5\n",
      "The next integer value for num is 1234\n",
      "The remainder of num/10 is 4\n",
      "The next value of reversed is 54\n",
      "The next integer value for num is 123\n",
      "The remainder of num/10 is 3\n",
      "The next value of reversed is 543\n",
      "The next integer value for num is 12\n",
      "The remainder of num/10 is 2\n",
      "The next value of reversed is 5432\n",
      "The next integer value for num is 1\n",
      "The remainder of num/10 is 1\n",
      "The next value of reversed is 54321\n",
      "The next integer value for num is 0\n"
     ]
    },
    {
     "data": {
      "text/plain": [
       "54321"
      ]
     },
     "execution_count": 30,
     "metadata": {},
     "output_type": "execute_result"
    }
   ],
   "source": [
    "def reverse_number(num):\n",
    "    reversed=0\n",
    "    while(num>0):                                           #starts a loop that continues until num is not greater than 0\n",
    "        remainder=num%10                                    #calculates the remainder when num is divided by 10\n",
    "        print(\"The remainder of num/10 is\",remainder)\n",
    "        reversed=reversed*10+remainder                      #calculates a growing number that adds the final digit of the most \n",
    "        print(\"The next value of reversed is\",reversed)     #recent num to the most recent value of reversed*10\n",
    "        num=num//10                                         #divides the most recent value of num by 10 and rounds down to the\n",
    "        print(\"The next integer value for num is\",num)      #nearest integer\n",
    "    return reversed\n",
    "\n",
    "# test \n",
    "num=12345\n",
    "reverse_number(num)"
   ]
  },
  {
   "cell_type": "markdown",
   "metadata": {},
   "source": [
    "#### Problem 8  - *challenge*\n",
    "Write a function that accepts a positive number and formats it into a string in monetary format correctly representing the dollar and cent amounts.   For example:\n",
    "\n",
    "```\n",
    "money_format(3510000.159897)\n",
    "```\n",
    "should return\n",
    "```\n",
    "  '3,510,000.16'\n",
    "```"
   ]
  },
  {
   "cell_type": "code",
   "execution_count": 32,
   "metadata": {},
   "outputs": [
    {
     "name": "stdout",
     "output_type": "stream",
     "text": [
      "30,947,535,395.27\n"
     ]
    }
   ],
   "source": [
    "def money_format(num):\n",
    "    spl=str(num).split(\".\")                       #separate the number by the decimal to handle each part separately\n",
    "    spl1=list(spl[0])                             #separate every digit in string spl\n",
    "    for i in range(len(spl1))[::-3][1:]:          \n",
    "        spl1.insert(i+1,\",\")                      #insert a comma every 3 digits from the right (skipping last index)\n",
    "    spl10=\"\".join(spl1)                           #join the previous list (now with commas) into one string\n",
    "    spl[0]=spl10                                  #replace the original number to left of decimal with new string (with commas)\n",
    "    spl2=spl[1]\n",
    "    if int(spl2[2])<5:\n",
    "        spl20=spl2[:2]\n",
    "    else:                                         #if the 100th value is greater than 5, this value will round up (with all\n",
    "        spl20=str(int(spl2[:2])+1)                #values to right being sliced)\n",
    "    spl[1]=spl20                                  #replace original decimal value with this new, rounded string\n",
    "    number=\".\".join(spl)                          #join the two string with a decimal point in between\n",
    "    print(number)\n",
    "    \n",
    "# test\n",
    "money_format(30947535395.2669429843)               #there are functions to simplify this process, but I like making life difficult"
   ]
  },
  {
   "cell_type": "markdown",
   "metadata": {},
   "source": [
    "#### Problem 9\n",
    "This problem is designed to expand our understanding of lists.  Please take a little time to research list methods in python.  Look up and demonstrate the following list methods with simple examples.  \n",
    "\n",
    "a.  Create an empty list  \n",
    "\n",
    "b.  Add an item to a list  \n",
    "\n",
    "c.  Take off the last item in a list\n",
    "\n",
    "d.   Insert an item into a list at a specific index\n",
    "\n",
    "e.  Remove an item at a specific index  \n"
   ]
  },
  {
   "cell_type": "code",
   "execution_count": 34,
   "metadata": {},
   "outputs": [
    {
     "name": "stdout",
     "output_type": "stream",
     "text": [
      "[]\n",
      "['bob']\n",
      "['George']\n",
      "['Henry', 'Janice', 'Peter']\n",
      "['Ted', 'Heather']\n"
     ]
    }
   ],
   "source": [
    "# a. \n",
    "list1 = []\n",
    "print(list1)\n",
    "\n",
    "# b. \n",
    "list1.append('bob')                #Adds Bob to list\n",
    "print(list1)\n",
    "\n",
    "# c. \n",
    "list2 = [\"George\",\"Carol\"]      \n",
    "list2.pop(-1)                      #Removes last item on list (Carol)\n",
    "print(list2)\n",
    "\n",
    "# d. \n",
    "list3 = [\"Henry\",\"Peter\"]\n",
    "list3.insert(1,\"Janice\")           #Inserts \"Janice\" as the 2nd item in the list\n",
    "print(list3)\n",
    "\n",
    "# e. \n",
    "list4 = [\"Ted\",\"Julia\",\"Heather\"]\n",
    "list4.pop(1)                       #Removes the 2nd item in the list\n",
    "print(list4)\n"
   ]
  },
  {
   "cell_type": "markdown",
   "metadata": {},
   "source": [
    "#### Problem 10\n",
    "This problem is designed to expand our understanding of dictionaries (called, 'objects', in other programming languages).  Please take a little time to research dictionaries in python.  Look up and demonstrate the following properties of and methods for dictionaries.  \n",
    "\n",
    "a.  Show how to access the value for a specified key, use June for an example.  \n",
    "\n",
    "b.  Print all of the keys for the dictionary shown below\n",
    "\n",
    "c.  Print all of the values for the dictionary shown below.    \n",
    "\n",
    "d.  Demonstrate a method to find how many items are in the dictionary.  \n",
    "\n",
    "e.  Demonstrate a method to add a new key value pair to the dictionary. \n"
   ]
  },
  {
   "cell_type": "code",
   "execution_count": 33,
   "metadata": {},
   "outputs": [
    {
     "name": "stdout",
     "output_type": "stream",
     "text": [
      "30\n",
      "dict_keys(['January', 'February', 'March', 'April', 'May', 'June', 'July', 'August', 'September', 'October', 'November', 'December'])\n",
      "dict_values([31, 28, 31, 30, 31, 30, 31, 31, 30, 31, 30, 31])\n",
      "12\n",
      "{'January': 31, 'February': 28, 'March': 31, 'April': 30, 'May': 31, 'June': 30, 'July': 31, 'August': 31, 'September': 30, 'October': 31, 'November': 30, 'December': 31, 'Leap February': 29}\n"
     ]
    }
   ],
   "source": [
    "days = {\n",
    "    'January':31, \n",
    "    'February':28, \n",
    "    'March':31, \n",
    "    'April':30,\n",
    "    'May':31, \n",
    "    'June':30, \n",
    "    'July':31, \n",
    "    'August':31,\n",
    "    'September':30, \n",
    "    'October':31, \n",
    "    'November':30, \n",
    "    'December':31\n",
    "}\n",
    "\n",
    "# a. \n",
    "print(days.get(\"June\"))                 #Accesses value associated with key \"June\"\n",
    "\n",
    "# b. \n",
    "print(days.keys())                      #prints all key in dictionary indicated\n",
    "\n",
    "# c. \n",
    "print(days.values())                    #prints all values in dictionary indicated\n",
    "\n",
    "# d.  \n",
    "print(len(days.keys()))                 #indicates number of items in dictionary indicated\n",
    "\n",
    "# e.\n",
    "days.setdefault(\"Leap February\", 29)    #adds this key/value pair to dictionary indicated (if this pair doesn't exist yet)\n",
    "print(days)\n"
   ]
  },
  {
   "cell_type": "code",
   "execution_count": null,
   "metadata": {},
   "outputs": [],
   "source": []
  }
 ],
 "metadata": {
  "kernelspec": {
   "display_name": "Python 3",
   "language": "python",
   "name": "python3"
  },
  "language_info": {
   "codemirror_mode": {
    "name": "ipython",
    "version": 3
   },
   "file_extension": ".py",
   "mimetype": "text/x-python",
   "name": "python",
   "nbconvert_exporter": "python",
   "pygments_lexer": "ipython3",
   "version": "3.7.1"
  }
 },
 "nbformat": 4,
 "nbformat_minor": 2
}
