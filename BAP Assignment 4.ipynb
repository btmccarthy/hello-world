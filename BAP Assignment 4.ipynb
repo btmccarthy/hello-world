{
 "cells": [
  {
   "cell_type": "markdown",
   "metadata": {},
   "source": [
    "# Assignment 4\n",
    "### Due:  Wednesday, April 3rd 11:59 pm\n",
    "The following assignment relies heavily on the content covered in the week 4 notes.  Many of the operations you are asked to do here resemble those we went over in class.  Please make sure to reference lesson 4.1 and especially lesson 4.2 notes to guide you through these exercises.  You will need to examine the page:  https://www.marketwatch.com/investing/stock/aapl to understand the structure (tags, classes).  \n",
    "#### Documentation\n",
    "[requests library](http://docs.python-requests.org/en/master/)  \n",
    "[beautifulsoup library](https://www.crummy.com/software/BeautifulSoup/bs4/doc/)  "
   ]
  },
  {
   "cell_type": "markdown",
   "metadata": {},
   "source": [
    "### Problem 1\n",
    "The following is a method we can use to open a file called data_file.txt. "
   ]
  },
  {
   "cell_type": "markdown",
   "metadata": {},
   "source": [
    "a. Turn the following code into a try and except block printing our an informative message when the file doesn't open (which it won't).\n",
    "```\n",
    "with open('data_file.txt') as data:\n",
    "    read_data = data.read()\n",
    "```"
   ]
  },
  {
   "cell_type": "code",
   "execution_count": 1,
   "metadata": {},
   "outputs": [
    {
     "name": "stdout",
     "output_type": "stream",
     "text": [
      "Could not open data_file.txt\n"
     ]
    }
   ],
   "source": [
    "# code here\n",
    "try:\n",
    "    with open('data_file.txt') as data:\n",
    "        read_data = data.read()\n",
    "    \n",
    "except:\n",
    "    print(\"Could not open data_file.txt\")\n",
    "    \n",
    "# returns: Could not open data_file.txt"
   ]
  },
  {
   "cell_type": "markdown",
   "metadata": {},
   "source": [
    "b.  Briefly desribe the importance of handling exceptions in programming. "
   ]
  },
  {
   "cell_type": "markdown",
   "metadata": {},
   "source": [
    "Answer:  If an error occurs in the script, the program will stop at that point produce an error message. All other steps after that point will be skipped."
   ]
  },
  {
   "cell_type": "markdown",
   "metadata": {},
   "source": [
    "The rest of this assignment will rely on the following libraries.  You will need to import them again as part of your functions. "
   ]
  },
  {
   "cell_type": "code",
   "execution_count": 2,
   "metadata": {},
   "outputs": [],
   "source": [
    "#Packages\n",
    "#Web scraping packages\n",
    "from bs4 import BeautifulSoup\n",
    "import requests\n",
    "#Pandas for data manipulation\n",
    "import pandas as pd"
   ]
  },
  {
   "cell_type": "markdown",
   "metadata": {},
   "source": [
    "### Problem 2\n",
    "This problem is all about web-scraping with requests and BeautifulSoup.  "
   ]
  },
  {
   "cell_type": "markdown",
   "metadata": {},
   "source": [
    "a.  Run a get request to url=\"https://www.marketwatch.com/investing/stock/\"+\"aapl\" and store the object returned as 'response'.  If the status code is not 200, print \"request not successful\"."
   ]
  },
  {
   "cell_type": "code",
   "execution_count": 3,
   "metadata": {},
   "outputs": [],
   "source": [
    "# Define the url\n",
    "url=\"https://www.marketwatch.com/investing/stock/\"+\"aapl\"\n",
    "# create the response from the get request\n",
    "response = requests.get(url)\n",
    "if not response.status_code == 200:\n",
    "    print(\"request not successful\")\n"
   ]
  },
  {
   "cell_type": "markdown",
   "metadata": {},
   "source": [
    "b.  Referencing the above response, create BeautifulSoup object called \"results_page\" parsed with 'lxml'."
   ]
  },
  {
   "cell_type": "code",
   "execution_count": 7,
   "metadata": {},
   "outputs": [],
   "source": [
    "# build the BeautifulSoup object and name it results_page\n",
    "results_page = BeautifulSoup(response.content,'lxml')\n"
   ]
  },
  {
   "cell_type": "markdown",
   "metadata": {},
   "source": [
    "c.  On the webpage:  https://www.marketwatch.com/investing/stock/aapl, for the section called \"Key Data\". Inspect the page and verify that the tag/class combination that uniquely identifies each of the items in this table is 'li'/'kv_item'.  Find all elements identified by a tag of 'li' and a class_='kv_item'.  "
   ]
  },
  {
   "cell_type": "code",
   "execution_count": 14,
   "metadata": {},
   "outputs": [
    {
     "name": "stdout",
     "output_type": "stream",
     "text": [
      "<class 'bs4.element.ResultSet'>\n"
     ]
    }
   ],
   "source": [
    "# find all elements with the tag \"li\" and class_=\"kv__item\"\n",
    "key_data=results_page.find_all('li',class_=\"kv__item\")\n",
    "\n",
    "# print the data type for the kv_data object\n",
    "print(type(key_data))\n"
   ]
  },
  {
   "cell_type": "markdown",
   "metadata": {},
   "source": [
    "d. The code to answer the above question should have returned a list.  Print the first item in this list.  You should get:\n",
    "```\n",
    "<li class=\"kv__item\">\n",
    "<small class=\"kv__label\">Open</small>\n",
    "<span class=\"kv__value kv__primary \">$188.75</span>\n",
    "<span class=\"kv__value kv__secondary no-value\"></span>\n",
    "</li>\n",
    "```"
   ]
  },
  {
   "cell_type": "code",
   "execution_count": 16,
   "metadata": {},
   "outputs": [
    {
     "name": "stdout",
     "output_type": "stream",
     "text": [
      "<li class=\"kv__item\">\n",
      "<small class=\"kv__label\">Open</small>\n",
      "<span class=\"kv__value kv__primary \">$194.79</span>\n",
      "<span class=\"kv__value kv__secondary no-value\"></span>\n",
      "</li>\n"
     ]
    }
   ],
   "source": [
    "# print the first item in the list you generated above\n",
    "print(key_data[0])"
   ]
  },
  {
   "cell_type": "markdown",
   "metadata": {},
   "source": [
    "Extract the label \"Open\" and the value \"$188.75\"\n",
    "\n",
    "Note:  values will differ."
   ]
  },
  {
   "cell_type": "code",
   "execution_count": 17,
   "metadata": {},
   "outputs": [
    {
     "name": "stdout",
     "output_type": "stream",
     "text": [
      "Open $194.79\n"
     ]
    }
   ],
   "source": [
    "# extract the label \n",
    "label=key_data[0].findChildren()[0].string\n",
    "\n",
    "# extract the value\n",
    "value=key_data[0].findChildren()[1].string\n",
    "\n",
    "# print the results\n",
    "print(label,value)"
   ]
  },
  {
   "cell_type": "markdown",
   "metadata": {},
   "source": [
    "e.  We need to be able to extract the text for each of the items in the key_data object.  Write a for loop to extract the label and primary value creating a list of the form [(label, value), (label,value),...]"
   ]
  },
  {
   "cell_type": "code",
   "execution_count": 18,
   "metadata": {},
   "outputs": [
    {
     "name": "stdout",
     "output_type": "stream",
     "text": [
      "[['Open', '$194.79'], ['Day Range', '193.14 - 196.37'], ['52 Week Range', '142.00 - 233.47'], ['Market Cap', '$921.13B'], ['Shares Outstanding', '4.72B'], ['Public Float', '4.71B'], ['Beta', '1.19'], ['Rev. per Employee', '$1.98M'], ['P/E Ratio', '16.09'], ['EPS', '$12.16'], ['Yield', '1.49%'], ['Dividend', '$0.73'], ['Ex-Dividend Date', 'Feb 8, 2019'], ['Short Interest', '72.75M'], ['% of Float Shorted', '1.55%'], ['Average Volume', '31.7M']]\n"
     ]
    }
   ],
   "source": [
    "# initialize an empty list\n",
    "kd_list=[]\n",
    "# loop over the items obtained in the key_data object extracting the label and value from each\n",
    "for data in key_data:\n",
    "    label=data.findChildren()[0].string\n",
    "    value=data.findChildren()[1].string\n",
    "    kd_list.append([label,value])\n",
    "\n",
    "# print the result\n",
    "print(kd_list)"
   ]
  },
  {
   "cell_type": "markdown",
   "metadata": {},
   "source": [
    "f. Optional Challenge:  \n",
    "\n",
    "Combine all of the above into a function that accepts a stock symbol as an argument and returns the list of (label, value) pairs.  "
   ]
  },
  {
   "cell_type": "code",
   "execution_count": 65,
   "metadata": {},
   "outputs": [],
   "source": [
    "def get_key_data(symbol):\n",
    "    data_dict={}\n",
    "    from bs4 import BeautifulSoup\n",
    "    import requests\n",
    "    url=\"https://www.marketwatch.com/investing/stock/\"+symbol\n",
    "    response = requests.get(url)\n",
    "    if not response.status_code == 200:\n",
    "        print(\"request not successful\")    \n",
    "    try:\n",
    "        results_page = BeautifulSoup(response.content,'lxml')\n",
    "        key_data=results_page.find_all('li',class_=\"kv__item\")\n",
    "        print(key_data)\n",
    "        kd_list=[]\n",
    "        for data in key_data:\n",
    "            data_dict['value'] = data.findChildren()[1].string\n",
    "            data_dict['label']=data.findChildren()[0].string\n",
    "            kd_list.append(data_dict)\n",
    "        return(kd_list)\n",
    "    except:\n",
    "        return \"bob\"\n",
    "            "
   ]
  },
  {
   "cell_type": "markdown",
   "metadata": {},
   "source": [
    "Run the function"
   ]
  },
  {
   "cell_type": "code",
   "execution_count": 66,
   "metadata": {},
   "outputs": [
    {
     "name": "stdout",
     "output_type": "stream",
     "text": [
      "[<li class=\"kv__item\">\n",
      "<small class=\"kv__label\">Open</small>\n",
      "<span class=\"kv__value kv__primary \">$196.42</span>\n",
      "<span class=\"kv__value kv__secondary no-value\"></span>\n",
      "</li>, <li class=\"kv__item\">\n",
      "<small class=\"kv__label\">Day Range</small>\n",
      "<span class=\"kv__value kv__primary \">196.34 - 200.23</span>\n",
      "<span class=\"kv__value kv__secondary no-value\"></span>\n",
      "</li>, <li class=\"kv__item\">\n",
      "<small class=\"kv__label\">52 Week Range</small>\n",
      "<span class=\"kv__value kv__primary \">142.00 - 233.47</span>\n",
      "<span class=\"kv__value kv__secondary no-value\"></span>\n",
      "</li>, <li class=\"kv__item\">\n",
      "<small class=\"kv__label\">Market Cap</small>\n",
      "<span class=\"kv__value kv__primary \">$928.91B</span>\n",
      "<span class=\"kv__value kv__secondary no-value\"></span>\n",
      "</li>, <li class=\"kv__item\">\n",
      "<small class=\"kv__label\">Shares Outstanding</small>\n",
      "<span class=\"kv__value kv__primary \">4.72B</span>\n",
      "<span class=\"kv__value kv__secondary no-value\"></span>\n",
      "</li>, <li class=\"kv__item\">\n",
      "<small class=\"kv__label\">Public Float</small>\n",
      "<span class=\"kv__value kv__primary \">4.71B</span>\n",
      "<span class=\"kv__value kv__secondary no-value\"></span>\n",
      "</li>, <li class=\"kv__item\">\n",
      "<small class=\"kv__label\">Beta</small>\n",
      "<span class=\"kv__value kv__primary \">1.19</span>\n",
      "<span class=\"kv__value kv__secondary no-value\"></span>\n",
      "</li>, <li class=\"kv__item\">\n",
      "<small class=\"kv__label\">Rev. per Employee</small>\n",
      "<span class=\"kv__value kv__primary \">$1.98M</span>\n",
      "<span class=\"kv__value kv__secondary no-value\"></span>\n",
      "</li>, <li class=\"kv__item\">\n",
      "<small class=\"kv__label\">P/E Ratio</small>\n",
      "<span class=\"kv__value kv__primary \">16.46</span>\n",
      "<span class=\"kv__value kv__secondary no-value\"></span>\n",
      "</li>, <li class=\"kv__item\">\n",
      "<small class=\"kv__label\">EPS</small>\n",
      "<span class=\"kv__value kv__primary \">$12.16</span>\n",
      "<span class=\"kv__value kv__secondary no-value\"></span>\n",
      "</li>, <li class=\"kv__item\">\n",
      "<small class=\"kv__label\">Yield</small>\n",
      "<span class=\"kv__value kv__primary \">1.46%</span>\n",
      "<span class=\"kv__value kv__secondary no-value\"></span>\n",
      "</li>, <li class=\"kv__item\">\n",
      "<small class=\"kv__label\">Dividend</small>\n",
      "<span class=\"kv__value kv__primary \">$0.73</span>\n",
      "<span class=\"kv__value kv__secondary no-value\"></span>\n",
      "</li>, <li class=\"kv__item\">\n",
      "<small class=\"kv__label\">Ex-Dividend Date</small>\n",
      "<span class=\"kv__value kv__primary \">Feb 8, 2019</span>\n",
      "<span class=\"kv__value kv__secondary no-value\"></span>\n",
      "</li>, <li class=\"kv__item\">\n",
      "<small class=\"kv__label\">Short Interest</small>\n",
      "<span class=\"kv__value kv__primary \">72.75M</span>\n",
      "<span class=\"kv__value kv__secondary \">03/15/19</span>\n",
      "</li>, <li class=\"kv__item\">\n",
      "<small class=\"kv__label\">% of Float Shorted</small>\n",
      "<span class=\"kv__value kv__primary \">1.55%</span>\n",
      "<span class=\"kv__value kv__secondary no-value\"></span>\n",
      "</li>, <li class=\"kv__item\">\n",
      "<small class=\"kv__label\">Average Volume</small>\n",
      "<span class=\"kv__value kv__primary \">31.17M</span>\n",
      "<span class=\"kv__value kv__secondary no-value\"></span>\n",
      "</li>]\n",
      "[{'value': '31.17M', 'label': 'Average Volume'}, {'value': '31.17M', 'label': 'Average Volume'}, {'value': '31.17M', 'label': 'Average Volume'}, {'value': '31.17M', 'label': 'Average Volume'}, {'value': '31.17M', 'label': 'Average Volume'}, {'value': '31.17M', 'label': 'Average Volume'}, {'value': '31.17M', 'label': 'Average Volume'}, {'value': '31.17M', 'label': 'Average Volume'}, {'value': '31.17M', 'label': 'Average Volume'}, {'value': '31.17M', 'label': 'Average Volume'}, {'value': '31.17M', 'label': 'Average Volume'}, {'value': '31.17M', 'label': 'Average Volume'}, {'value': '31.17M', 'label': 'Average Volume'}, {'value': '31.17M', 'label': 'Average Volume'}, {'value': '31.17M', 'label': 'Average Volume'}, {'value': '31.17M', 'label': 'Average Volume'}]\n"
     ]
    }
   ],
   "source": [
    "results = get_key_data(\"aapl\")\n",
    "print(results)"
   ]
  },
  {
   "cell_type": "markdown",
   "metadata": {},
   "source": [
    "g. Optional:\n",
    "\n",
    "Use pandas to create a dataframe from the data you extracted. "
   ]
  },
  {
   "cell_type": "code",
   "execution_count": 59,
   "metadata": {},
   "outputs": [
    {
     "data": {
      "text/html": [
       "<div>\n",
       "<style scoped>\n",
       "    .dataframe tbody tr th:only-of-type {\n",
       "        vertical-align: middle;\n",
       "    }\n",
       "\n",
       "    .dataframe tbody tr th {\n",
       "        vertical-align: top;\n",
       "    }\n",
       "\n",
       "    .dataframe thead th {\n",
       "        text-align: right;\n",
       "    }\n",
       "</style>\n",
       "<table border=\"1\" class=\"dataframe\">\n",
       "  <thead>\n",
       "    <tr style=\"text-align: right;\">\n",
       "      <th></th>\n",
       "      <th>label</th>\n",
       "      <th>value</th>\n",
       "    </tr>\n",
       "  </thead>\n",
       "  <tbody>\n",
       "    <tr>\n",
       "      <th>0</th>\n",
       "      <td>Average Volume</td>\n",
       "      <td>31.17M</td>\n",
       "    </tr>\n",
       "    <tr>\n",
       "      <th>1</th>\n",
       "      <td>Average Volume</td>\n",
       "      <td>31.17M</td>\n",
       "    </tr>\n",
       "    <tr>\n",
       "      <th>2</th>\n",
       "      <td>Average Volume</td>\n",
       "      <td>31.17M</td>\n",
       "    </tr>\n",
       "    <tr>\n",
       "      <th>3</th>\n",
       "      <td>Average Volume</td>\n",
       "      <td>31.17M</td>\n",
       "    </tr>\n",
       "    <tr>\n",
       "      <th>4</th>\n",
       "      <td>Average Volume</td>\n",
       "      <td>31.17M</td>\n",
       "    </tr>\n",
       "    <tr>\n",
       "      <th>5</th>\n",
       "      <td>Average Volume</td>\n",
       "      <td>31.17M</td>\n",
       "    </tr>\n",
       "    <tr>\n",
       "      <th>6</th>\n",
       "      <td>Average Volume</td>\n",
       "      <td>31.17M</td>\n",
       "    </tr>\n",
       "    <tr>\n",
       "      <th>7</th>\n",
       "      <td>Average Volume</td>\n",
       "      <td>31.17M</td>\n",
       "    </tr>\n",
       "    <tr>\n",
       "      <th>8</th>\n",
       "      <td>Average Volume</td>\n",
       "      <td>31.17M</td>\n",
       "    </tr>\n",
       "    <tr>\n",
       "      <th>9</th>\n",
       "      <td>Average Volume</td>\n",
       "      <td>31.17M</td>\n",
       "    </tr>\n",
       "    <tr>\n",
       "      <th>10</th>\n",
       "      <td>Average Volume</td>\n",
       "      <td>31.17M</td>\n",
       "    </tr>\n",
       "    <tr>\n",
       "      <th>11</th>\n",
       "      <td>Average Volume</td>\n",
       "      <td>31.17M</td>\n",
       "    </tr>\n",
       "    <tr>\n",
       "      <th>12</th>\n",
       "      <td>Average Volume</td>\n",
       "      <td>31.17M</td>\n",
       "    </tr>\n",
       "    <tr>\n",
       "      <th>13</th>\n",
       "      <td>Average Volume</td>\n",
       "      <td>31.17M</td>\n",
       "    </tr>\n",
       "    <tr>\n",
       "      <th>14</th>\n",
       "      <td>Average Volume</td>\n",
       "      <td>31.17M</td>\n",
       "    </tr>\n",
       "    <tr>\n",
       "      <th>15</th>\n",
       "      <td>Average Volume</td>\n",
       "      <td>31.17M</td>\n",
       "    </tr>\n",
       "  </tbody>\n",
       "</table>\n",
       "</div>"
      ],
      "text/plain": [
       "             label   value\n",
       "0   Average Volume  31.17M\n",
       "1   Average Volume  31.17M\n",
       "2   Average Volume  31.17M\n",
       "3   Average Volume  31.17M\n",
       "4   Average Volume  31.17M\n",
       "5   Average Volume  31.17M\n",
       "6   Average Volume  31.17M\n",
       "7   Average Volume  31.17M\n",
       "8   Average Volume  31.17M\n",
       "9   Average Volume  31.17M\n",
       "10  Average Volume  31.17M\n",
       "11  Average Volume  31.17M\n",
       "12  Average Volume  31.17M\n",
       "13  Average Volume  31.17M\n",
       "14  Average Volume  31.17M\n",
       "15  Average Volume  31.17M"
      ]
     },
     "execution_count": 59,
     "metadata": {},
     "output_type": "execute_result"
    }
   ],
   "source": [
    "import pandas as pd\n",
    "pd.DataFrame(results)"
   ]
  },
  {
   "cell_type": "code",
   "execution_count": null,
   "metadata": {},
   "outputs": [],
   "source": []
  }
 ],
 "metadata": {
  "kernelspec": {
   "display_name": "Python 3",
   "language": "python",
   "name": "python3"
  },
  "language_info": {
   "codemirror_mode": {
    "name": "ipython",
    "version": 3
   },
   "file_extension": ".py",
   "mimetype": "text/x-python",
   "name": "python",
   "nbconvert_exporter": "python",
   "pygments_lexer": "ipython3",
   "version": "3.7.1"
  }
 },
 "nbformat": 4,
 "nbformat_minor": 2
}
